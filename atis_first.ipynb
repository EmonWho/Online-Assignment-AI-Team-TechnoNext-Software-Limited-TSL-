{
 "cells": [
  {
   "cell_type": "code",
   "execution_count": 45,
   "metadata": {},
   "outputs": [],
   "source": [
    "import pandas as pd\n",
    "import numpy as np\n",
    "\n",
    "df_train=pd.read_csv(\"/Users/imanurrahmanemon/emon/atis_train.csv\")\n",
    "df_test=pd.read_csv(\"/Users/imanurrahmanemon/emon/atis_test.csv\")\n"
   ]
  },
  {
   "cell_type": "code",
   "execution_count": 46,
   "metadata": {},
   "outputs": [
    {
     "data": {
      "text/html": [
       "<div>\n",
       "<style scoped>\n",
       "    .dataframe tbody tr th:only-of-type {\n",
       "        vertical-align: middle;\n",
       "    }\n",
       "\n",
       "    .dataframe tbody tr th {\n",
       "        vertical-align: top;\n",
       "    }\n",
       "\n",
       "    .dataframe thead th {\n",
       "        text-align: right;\n",
       "    }\n",
       "</style>\n",
       "<table border=\"1\" class=\"dataframe\">\n",
       "  <thead>\n",
       "    <tr style=\"text-align: right;\">\n",
       "      <th></th>\n",
       "      <th>id</th>\n",
       "      <th>intent</th>\n",
       "      <th>text</th>\n",
       "      <th>slots</th>\n",
       "    </tr>\n",
       "  </thead>\n",
       "  <tbody>\n",
       "    <tr>\n",
       "      <th>0</th>\n",
       "      <td>0</td>\n",
       "      <td>flight</td>\n",
       "      <td>i want to fly from boston at 838 am and arrive...</td>\n",
       "      <td>O O O O O B-fromloc.city_name O B-depart_time....</td>\n",
       "    </tr>\n",
       "    <tr>\n",
       "      <th>1</th>\n",
       "      <td>1</td>\n",
       "      <td>flight</td>\n",
       "      <td>what flights are available from pittsburgh to ...</td>\n",
       "      <td>O O O O O B-fromloc.city_name O B-toloc.city_n...</td>\n",
       "    </tr>\n",
       "    <tr>\n",
       "      <th>2</th>\n",
       "      <td>2</td>\n",
       "      <td>flight_time</td>\n",
       "      <td>what is the arrival time in san francisco for ...</td>\n",
       "      <td>O O O B-flight_time I-flight_time O B-fromloc....</td>\n",
       "    </tr>\n",
       "    <tr>\n",
       "      <th>3</th>\n",
       "      <td>3</td>\n",
       "      <td>airfare</td>\n",
       "      <td>cheapest airfare from tacoma to orlando</td>\n",
       "      <td>B-cost_relative O O B-fromloc.city_name O B-to...</td>\n",
       "    </tr>\n",
       "    <tr>\n",
       "      <th>4</th>\n",
       "      <td>4</td>\n",
       "      <td>airfare</td>\n",
       "      <td>round trip fares from pittsburgh to philadelph...</td>\n",
       "      <td>B-round_trip I-round_trip O O B-fromloc.city_n...</td>\n",
       "    </tr>\n",
       "  </tbody>\n",
       "</table>\n",
       "</div>"
      ],
      "text/plain": [
       "   id       intent                                               text  \\\n",
       "0   0       flight  i want to fly from boston at 838 am and arrive...   \n",
       "1   1       flight  what flights are available from pittsburgh to ...   \n",
       "2   2  flight_time  what is the arrival time in san francisco for ...   \n",
       "3   3      airfare            cheapest airfare from tacoma to orlando   \n",
       "4   4      airfare  round trip fares from pittsburgh to philadelph...   \n",
       "\n",
       "                                               slots  \n",
       "0  O O O O O B-fromloc.city_name O B-depart_time....  \n",
       "1  O O O O O B-fromloc.city_name O B-toloc.city_n...  \n",
       "2  O O O B-flight_time I-flight_time O B-fromloc....  \n",
       "3  B-cost_relative O O B-fromloc.city_name O B-to...  \n",
       "4  B-round_trip I-round_trip O O B-fromloc.city_n...  "
      ]
     },
     "execution_count": 46,
     "metadata": {},
     "output_type": "execute_result"
    }
   ],
   "source": [
    "df_train.head()"
   ]
  },
  {
   "cell_type": "code",
   "execution_count": 48,
   "metadata": {},
   "outputs": [
    {
     "data": {
      "text/html": [
       "<div>\n",
       "<style scoped>\n",
       "    .dataframe tbody tr th:only-of-type {\n",
       "        vertical-align: middle;\n",
       "    }\n",
       "\n",
       "    .dataframe tbody tr th {\n",
       "        vertical-align: top;\n",
       "    }\n",
       "\n",
       "    .dataframe thead th {\n",
       "        text-align: right;\n",
       "    }\n",
       "</style>\n",
       "<table border=\"1\" class=\"dataframe\">\n",
       "  <thead>\n",
       "    <tr style=\"text-align: right;\">\n",
       "      <th></th>\n",
       "      <th>id</th>\n",
       "      <th>intent</th>\n",
       "      <th>text</th>\n",
       "      <th>slots</th>\n",
       "    </tr>\n",
       "  </thead>\n",
       "  <tbody>\n",
       "    <tr>\n",
       "      <th>0</th>\n",
       "      <td>0</td>\n",
       "      <td>flight</td>\n",
       "      <td>i want to fly from boston at 838 am and arrive...</td>\n",
       "      <td>O O O O O B-fromloc.city_name O B-depart_time....</td>\n",
       "    </tr>\n",
       "    <tr>\n",
       "      <th>1</th>\n",
       "      <td>1</td>\n",
       "      <td>flight</td>\n",
       "      <td>what flights are available from pittsburgh to ...</td>\n",
       "      <td>O O O O O B-fromloc.city_name O B-toloc.city_n...</td>\n",
       "    </tr>\n",
       "    <tr>\n",
       "      <th>2</th>\n",
       "      <td>2</td>\n",
       "      <td>flight_time</td>\n",
       "      <td>what is the arrival time in san francisco for ...</td>\n",
       "      <td>O O O B-flight_time I-flight_time O B-fromloc....</td>\n",
       "    </tr>\n",
       "    <tr>\n",
       "      <th>3</th>\n",
       "      <td>3</td>\n",
       "      <td>airfare</td>\n",
       "      <td>cheapest airfare from tacoma to orlando</td>\n",
       "      <td>B-cost_relative O O B-fromloc.city_name O B-to...</td>\n",
       "    </tr>\n",
       "    <tr>\n",
       "      <th>4</th>\n",
       "      <td>4</td>\n",
       "      <td>airfare</td>\n",
       "      <td>round trip fares from pittsburgh to philadelph...</td>\n",
       "      <td>B-round_trip I-round_trip O O B-fromloc.city_n...</td>\n",
       "    </tr>\n",
       "  </tbody>\n",
       "</table>\n",
       "</div>"
      ],
      "text/plain": [
       "   id       intent                                               text  \\\n",
       "0   0       flight  i want to fly from boston at 838 am and arrive...   \n",
       "1   1       flight  what flights are available from pittsburgh to ...   \n",
       "2   2  flight_time  what is the arrival time in san francisco for ...   \n",
       "3   3      airfare            cheapest airfare from tacoma to orlando   \n",
       "4   4      airfare  round trip fares from pittsburgh to philadelph...   \n",
       "\n",
       "                                               slots  \n",
       "0  O O O O O B-fromloc.city_name O B-depart_time....  \n",
       "1  O O O O O B-fromloc.city_name O B-toloc.city_n...  \n",
       "2  O O O B-flight_time I-flight_time O B-fromloc....  \n",
       "3  B-cost_relative O O B-fromloc.city_name O B-to...  \n",
       "4  B-round_trip I-round_trip O O B-fromloc.city_n...  "
      ]
     },
     "execution_count": 48,
     "metadata": {},
     "output_type": "execute_result"
    }
   ],
   "source": [
    "df_train.columns = ['id','intent', 'text','slots']\n",
    "df_train.head()"
   ]
  },
  {
   "cell_type": "code",
   "execution_count": 47,
   "metadata": {},
   "outputs": [
    {
     "data": {
      "text/plain": [
       "0            flight\n",
       "1            flight\n",
       "2       flight_time\n",
       "3           airfare\n",
       "4           airfare\n",
       "           ...     \n",
       "4973        airfare\n",
       "4974         flight\n",
       "4975        airline\n",
       "4976         flight\n",
       "4977         flight\n",
       "Name: intent, Length: 4978, dtype: object"
      ]
     },
     "execution_count": 47,
     "metadata": {},
     "output_type": "execute_result"
    }
   ],
   "source": [
    "df_train['intent']"
   ]
  },
  {
   "cell_type": "code",
   "execution_count": 33,
   "metadata": {},
   "outputs": [
    {
     "data": {
      "text/plain": [
       "array(['flight', 'flight_time', 'airfare', 'aircraft', 'ground_service',\n",
       "       'airport', 'airline', 'distance', 'abbreviation', 'ground_fare',\n",
       "       'quantity', 'city', 'flight_no', 'capacity', 'flight+airfare',\n",
       "       'meal', 'restriction', 'airline+flight_no',\n",
       "       'ground_service+ground_fare', 'airfare+flight_time', 'cheapest',\n",
       "       'aircraft+flight+flight_no'], dtype=object)"
      ]
     },
     "execution_count": 33,
     "metadata": {},
     "output_type": "execute_result"
    }
   ],
   "source": [
    "df_train['intent'].unique()"
   ]
  },
  {
   "cell_type": "code",
   "execution_count": 36,
   "metadata": {},
   "outputs": [
    {
     "name": "stdout",
     "output_type": "stream",
     "text": [
      "Found 889 unique tokens.\n",
      "Shape of data tensor: (4978, 10)\n",
      "Shape of label tensor: (4978, 22)\n"
     ]
    }
   ],
   "source": [
    "from keras.preprocessing.text import Tokenizer\n",
    "\n",
    "from keras.utils import pad_sequences\n",
    "from keras.utils import to_categorical\n",
    "MAX_SEQUENCE_LENGTH = 10\n",
    "MAX_NUM_WORDS = 5000\n",
    "tokenizer = Tokenizer(num_words=MAX_NUM_WORDS)\n",
    "tokenizer.fit_on_texts(df_train['text'])\n",
    "sequences = tokenizer.texts_to_sequences(df_train['text'])\n",
    "word_index = tokenizer.word_index\n",
    "print('Found %s unique tokens.' % len(word_index))\n",
    "data = pad_sequences(sequences, maxlen=MAX_SEQUENCE_LENGTH)\n",
    "labels = to_categorical(df_train['intent'])\n",
    "x_train=data\n",
    "y_train=labels\n",
    "print('Shape of data tensor:', data.shape)\n",
    "print('Shape of label tensor:', labels.shape)"
   ]
  },
  {
   "cell_type": "code",
   "execution_count": 37,
   "metadata": {},
   "outputs": [],
   "source": [
    "from keras.layers import Dense, Input, GlobalMaxPooling1D\n",
    "from keras.layers import Conv1D, MaxPooling1D, Embedding, Flatten\n",
    "from keras.models import Model\n",
    "from keras.models import Sequential\n",
    "from keras.layers import LSTM\n",
    "atis_rnnmodel = Sequential()\n",
    "atis_rnnmodel.add(Embedding(MAX_NUM_WORDS, 128))\n",
    "atis_rnnmodel.add(LSTM(128, dropout=0.2, recurrent_dropout=0.2))\n",
    "atis_rnnmodel.add(Dense((8), activation='sigmoid'))\n",
    "atis_rnnmodel.compile(loss='binary_crossentropy',\n",
    " optimizer='adam',\n",
    " metrics= ['accuracy'])"
   ]
  },
  {
   "cell_type": "code",
   "execution_count": 42,
   "metadata": {},
   "outputs": [
    {
     "name": "stdout",
     "output_type": "stream",
     "text": [
      "There are 4978 rows and 4 columns\n"
     ]
    }
   ],
   "source": [
    "print(\"There are {} rows and {} columns\".format(df_train.shape[0], df_train.shape[1]))"
   ]
  },
  {
   "cell_type": "code",
   "execution_count": 49,
   "metadata": {},
   "outputs": [
    {
     "name": "stdout",
     "output_type": "stream",
     "text": [
      "Unique values in the column: ['flight' 'flight_time' 'airfare' 'aircraft' 'ground_service' 'airport'\n",
      " 'airline' 'distance' 'abbreviation' 'ground_fare' 'quantity' 'city'\n",
      " 'flight_no' 'capacity' 'flight+airfare' 'meal' 'restriction'\n",
      " 'airline+flight_no' 'ground_service+ground_fare' 'airfare+flight_time'\n",
      " 'cheapest' 'aircraft+flight+flight_no']\n"
     ]
    }
   ],
   "source": [
    "unique_values = df_train['intent'].unique()\n",
    "\n",
    "print(f'Unique values in the column: {unique_values}')\n"
   ]
  },
  {
   "cell_type": "code",
   "execution_count": 51,
   "metadata": {},
   "outputs": [
    {
     "name": "stdout",
     "output_type": "stream",
     "text": [
      "Value counts:\n",
      "intent\n",
      "flight                        3666\n",
      "airfare                        423\n",
      "ground_service                 255\n",
      "airline                        157\n",
      "abbreviation                   147\n",
      "aircraft                        81\n",
      "flight_time                     54\n",
      "quantity                        51\n",
      "flight+airfare                  21\n",
      "airport                         20\n",
      "distance                        20\n",
      "city                            19\n",
      "ground_fare                     18\n",
      "capacity                        16\n",
      "flight_no                       12\n",
      "meal                             6\n",
      "restriction                      6\n",
      "airline+flight_no                2\n",
      "ground_service+ground_fare       1\n",
      "airfare+flight_time              1\n",
      "cheapest                         1\n",
      "aircraft+flight+flight_no        1\n",
      "Name: count, dtype: int64\n"
     ]
    }
   ],
   "source": [
    "value_counts = df_train['intent'].value_counts()\n",
    "\n",
    "print(f'Value counts:\\n{value_counts}')\n"
   ]
  },
  {
   "cell_type": "code",
   "execution_count": 53,
   "metadata": {},
   "outputs": [
    {
     "data": {
      "text/plain": [
       "intent\n",
       "flight                        3666\n",
       "airfare                        423\n",
       "ground_service                 255\n",
       "airline                        157\n",
       "abbreviation                   147\n",
       "aircraft                        81\n",
       "flight_time                     54\n",
       "quantity                        51\n",
       "flight+airfare                  21\n",
       "airport                         20\n",
       "distance                        20\n",
       "city                            19\n",
       "ground_fare                     18\n",
       "capacity                        16\n",
       "flight_no                       12\n",
       "meal                             6\n",
       "restriction                      6\n",
       "airline+flight_no                2\n",
       "ground_service+ground_fare       1\n",
       "airfare+flight_time              1\n",
       "cheapest                         1\n",
       "aircraft+flight+flight_no        1\n",
       "Name: count, dtype: int64"
      ]
     },
     "execution_count": 53,
     "metadata": {},
     "output_type": "execute_result"
    }
   ],
   "source": [
    "df = df_train[df_train[\"intent\"].str.contains(\"#\")==False]\n",
    "df.intent.value_counts()"
   ]
  },
  {
   "cell_type": "code",
   "execution_count": 55,
   "metadata": {},
   "outputs": [
    {
     "name": "stdout",
     "output_type": "stream",
     "text": [
      "Collecting en-core-web-md==3.7.1\n",
      "  Using cached https://github.com/explosion/spacy-models/releases/download/en_core_web_md-3.7.1/en_core_web_md-3.7.1-py3-none-any.whl (42.8 MB)\n",
      "Requirement already satisfied: spacy<3.8.0,>=3.7.2 in ./lib/python3.11/site-packages (from en-core-web-md==3.7.1) (3.7.2)\n",
      "Requirement already satisfied: spacy-legacy<3.1.0,>=3.0.11 in ./lib/python3.11/site-packages (from spacy<3.8.0,>=3.7.2->en-core-web-md==3.7.1) (3.0.12)\n",
      "Requirement already satisfied: spacy-loggers<2.0.0,>=1.0.0 in ./lib/python3.11/site-packages (from spacy<3.8.0,>=3.7.2->en-core-web-md==3.7.1) (1.0.5)\n",
      "Requirement already satisfied: murmurhash<1.1.0,>=0.28.0 in ./lib/python3.11/site-packages (from spacy<3.8.0,>=3.7.2->en-core-web-md==3.7.1) (1.0.10)\n",
      "Requirement already satisfied: cymem<2.1.0,>=2.0.2 in ./lib/python3.11/site-packages (from spacy<3.8.0,>=3.7.2->en-core-web-md==3.7.1) (2.0.8)\n",
      "Requirement already satisfied: preshed<3.1.0,>=3.0.2 in ./lib/python3.11/site-packages (from spacy<3.8.0,>=3.7.2->en-core-web-md==3.7.1) (3.0.9)\n",
      "Requirement already satisfied: thinc<8.3.0,>=8.1.8 in ./lib/python3.11/site-packages (from spacy<3.8.0,>=3.7.2->en-core-web-md==3.7.1) (8.2.1)\n",
      "Requirement already satisfied: wasabi<1.2.0,>=0.9.1 in ./lib/python3.11/site-packages (from spacy<3.8.0,>=3.7.2->en-core-web-md==3.7.1) (1.1.2)\n",
      "Requirement already satisfied: srsly<3.0.0,>=2.4.3 in ./lib/python3.11/site-packages (from spacy<3.8.0,>=3.7.2->en-core-web-md==3.7.1) (2.4.8)\n",
      "Requirement already satisfied: catalogue<2.1.0,>=2.0.6 in ./lib/python3.11/site-packages (from spacy<3.8.0,>=3.7.2->en-core-web-md==3.7.1) (2.0.10)\n",
      "Requirement already satisfied: weasel<0.4.0,>=0.1.0 in ./lib/python3.11/site-packages (from spacy<3.8.0,>=3.7.2->en-core-web-md==3.7.1) (0.3.4)\n",
      "Requirement already satisfied: typer<0.10.0,>=0.3.0 in ./lib/python3.11/site-packages (from spacy<3.8.0,>=3.7.2->en-core-web-md==3.7.1) (0.9.0)\n",
      "Requirement already satisfied: smart-open<7.0.0,>=5.2.1 in ./lib/python3.11/site-packages (from spacy<3.8.0,>=3.7.2->en-core-web-md==3.7.1) (6.4.0)\n",
      "Requirement already satisfied: tqdm<5.0.0,>=4.38.0 in ./lib/python3.11/site-packages (from spacy<3.8.0,>=3.7.2->en-core-web-md==3.7.1) (4.66.1)\n",
      "Requirement already satisfied: requests<3.0.0,>=2.13.0 in ./lib/python3.11/site-packages (from spacy<3.8.0,>=3.7.2->en-core-web-md==3.7.1) (2.31.0)\n",
      "Requirement already satisfied: pydantic!=1.8,!=1.8.1,<3.0.0,>=1.7.4 in ./lib/python3.11/site-packages (from spacy<3.8.0,>=3.7.2->en-core-web-md==3.7.1) (2.5.2)\n",
      "Requirement already satisfied: jinja2 in ./lib/python3.11/site-packages (from spacy<3.8.0,>=3.7.2->en-core-web-md==3.7.1) (3.1.2)\n",
      "Requirement already satisfied: setuptools in ./lib/python3.11/site-packages (from spacy<3.8.0,>=3.7.2->en-core-web-md==3.7.1) (65.5.0)\n",
      "Requirement already satisfied: packaging>=20.0 in ./lib/python3.11/site-packages (from spacy<3.8.0,>=3.7.2->en-core-web-md==3.7.1) (23.2)\n",
      "Requirement already satisfied: langcodes<4.0.0,>=3.2.0 in ./lib/python3.11/site-packages (from spacy<3.8.0,>=3.7.2->en-core-web-md==3.7.1) (3.3.0)\n",
      "Requirement already satisfied: numpy>=1.19.0 in ./lib/python3.11/site-packages (from spacy<3.8.0,>=3.7.2->en-core-web-md==3.7.1) (1.26.2)\n",
      "Requirement already satisfied: annotated-types>=0.4.0 in ./lib/python3.11/site-packages (from pydantic!=1.8,!=1.8.1,<3.0.0,>=1.7.4->spacy<3.8.0,>=3.7.2->en-core-web-md==3.7.1) (0.6.0)\n",
      "Requirement already satisfied: pydantic-core==2.14.5 in ./lib/python3.11/site-packages (from pydantic!=1.8,!=1.8.1,<3.0.0,>=1.7.4->spacy<3.8.0,>=3.7.2->en-core-web-md==3.7.1) (2.14.5)\n",
      "Requirement already satisfied: typing-extensions>=4.6.1 in ./lib/python3.11/site-packages (from pydantic!=1.8,!=1.8.1,<3.0.0,>=1.7.4->spacy<3.8.0,>=3.7.2->en-core-web-md==3.7.1) (4.8.0)\n",
      "Requirement already satisfied: charset-normalizer<4,>=2 in ./lib/python3.11/site-packages (from requests<3.0.0,>=2.13.0->spacy<3.8.0,>=3.7.2->en-core-web-md==3.7.1) (3.3.2)\n",
      "Requirement already satisfied: idna<4,>=2.5 in ./lib/python3.11/site-packages (from requests<3.0.0,>=2.13.0->spacy<3.8.0,>=3.7.2->en-core-web-md==3.7.1) (3.4)\n",
      "Requirement already satisfied: urllib3<3,>=1.21.1 in ./lib/python3.11/site-packages (from requests<3.0.0,>=2.13.0->spacy<3.8.0,>=3.7.2->en-core-web-md==3.7.1) (2.1.0)\n",
      "Requirement already satisfied: certifi>=2017.4.17 in ./lib/python3.11/site-packages (from requests<3.0.0,>=2.13.0->spacy<3.8.0,>=3.7.2->en-core-web-md==3.7.1) (2023.7.22)\n",
      "Requirement already satisfied: blis<0.8.0,>=0.7.8 in ./lib/python3.11/site-packages (from thinc<8.3.0,>=8.1.8->spacy<3.8.0,>=3.7.2->en-core-web-md==3.7.1) (0.7.11)\n",
      "Requirement already satisfied: confection<1.0.0,>=0.0.1 in ./lib/python3.11/site-packages (from thinc<8.3.0,>=8.1.8->spacy<3.8.0,>=3.7.2->en-core-web-md==3.7.1) (0.1.4)\n",
      "Requirement already satisfied: click<9.0.0,>=7.1.1 in ./lib/python3.11/site-packages (from typer<0.10.0,>=0.3.0->spacy<3.8.0,>=3.7.2->en-core-web-md==3.7.1) (8.1.7)\n",
      "Requirement already satisfied: cloudpathlib<0.17.0,>=0.7.0 in ./lib/python3.11/site-packages (from weasel<0.4.0,>=0.1.0->spacy<3.8.0,>=3.7.2->en-core-web-md==3.7.1) (0.16.0)\n",
      "Requirement already satisfied: MarkupSafe>=2.0 in ./lib/python3.11/site-packages (from jinja2->spacy<3.8.0,>=3.7.2->en-core-web-md==3.7.1) (2.1.3)\n",
      "\u001b[38;5;2m✔ Download and installation successful\u001b[0m\n",
      "You can now load the package via spacy.load('en_core_web_md')\n"
     ]
    }
   ],
   "source": [
    "!python -m spacy download en_core_web_md"
   ]
  },
  {
   "cell_type": "code",
   "execution_count": 56,
   "metadata": {},
   "outputs": [
    {
     "name": "stdout",
     "output_type": "stream",
     "text": [
      "Number of vectors: 300\n"
     ]
    }
   ],
   "source": [
    "# import libraries and load spacy English model\n",
    "import spacy\n",
    "import numpy as np\n",
    "\n",
    "nlp = spacy.load(\"en_core_web_md\")\n",
    "print(\"Number of vectors: {}\".format(nlp.vocab.vectors_length))\n"
   ]
  },
  {
   "cell_type": "code",
   "execution_count": null,
   "metadata": {},
   "outputs": [],
   "source": []
  },
  {
   "cell_type": "code",
   "execution_count": 65,
   "metadata": {},
   "outputs": [],
   "source": [
    "training_df = pd.read_csv('/Users/imanurrahmanemon/emon/atis_train.csv')\n",
    "training_df = training_df[training_df[\"intent\"].str.contains(\"#\") == False]\n",
    "\n",
    "sen_train = training_df['text'].tolist()\n",
    "labels_train = training_df['intent'].tolist()\n",
    "\n",
    "# Load test dataset\n",
    "test_df = pd.read_csv('/Users/imanurrahmanemon/emon/atis_test.csv')\n",
    "test_df = test_df[test_df[\"intent\"].str.contains(\"#\") == False]\n",
    "sen_test = test_df['text'].tolist()\n",
    "labels_test = test_df['intent'].tolist()"
   ]
  },
  {
   "cell_type": "code",
   "execution_count": 66,
   "metadata": {},
   "outputs": [
    {
     "name": "stdout",
     "output_type": "stream",
     "text": [
      "Train data has 4978 rows and test data has 893 rows\n"
     ]
    }
   ],
   "source": [
    "train_size = len(labels_train)\n",
    "test_size = len(labels_test)\n",
    "\n",
    "\n",
    "print('Train data has {} rows and test data has {} rows'.format(train_size, test_size))"
   ]
  },
  {
   "cell_type": "code",
   "execution_count": 67,
   "metadata": {},
   "outputs": [],
   "source": [
    "def encode_sentences(sentences):\n",
    "    # Calculate number of sentences\n",
    "    n_sentences = len(sentences)\n",
    "    X = np.zeros((n_sentences, 300))\n",
    "\n",
    "    # Iterate over the sentences\n",
    "    for idx, sentence in enumerate(sentences):\n",
    "        # Pass each sentence to the nlp object to create a document\n",
    "        doc = nlp(sentence)\n",
    "        # Save the document's .vector attribute to the corresponding row in     \n",
    "        # X\n",
    "        X[idx, :] = doc.vector\n",
    "    return X\n",
    "\n",
    "train_X = encode_sentences(sen_train)\n",
    "test_X = encode_sentences(sen_test)"
   ]
  },
  {
   "cell_type": "code",
   "execution_count": 68,
   "metadata": {},
   "outputs": [],
   "source": [
    "# encode labels i.e turn text labels into integers\n",
    "from sklearn.preprocessing import LabelEncoder\n",
    "\n",
    "# instantiate label encoder object\n",
    "le = LabelEncoder()\n",
    "\n",
    "labels_test = le.fit_transform(labels_test)\n",
    "labels_train = le.fit_transform(labels_train)"
   ]
  },
  {
   "cell_type": "code",
   "execution_count": 69,
   "metadata": {},
   "outputs": [
    {
     "data": {
      "text/html": [
       "<style>#sk-container-id-1 {color: black;}#sk-container-id-1 pre{padding: 0;}#sk-container-id-1 div.sk-toggleable {background-color: white;}#sk-container-id-1 label.sk-toggleable__label {cursor: pointer;display: block;width: 100%;margin-bottom: 0;padding: 0.3em;box-sizing: border-box;text-align: center;}#sk-container-id-1 label.sk-toggleable__label-arrow:before {content: \"▸\";float: left;margin-right: 0.25em;color: #696969;}#sk-container-id-1 label.sk-toggleable__label-arrow:hover:before {color: black;}#sk-container-id-1 div.sk-estimator:hover label.sk-toggleable__label-arrow:before {color: black;}#sk-container-id-1 div.sk-toggleable__content {max-height: 0;max-width: 0;overflow: hidden;text-align: left;background-color: #f0f8ff;}#sk-container-id-1 div.sk-toggleable__content pre {margin: 0.2em;color: black;border-radius: 0.25em;background-color: #f0f8ff;}#sk-container-id-1 input.sk-toggleable__control:checked~div.sk-toggleable__content {max-height: 200px;max-width: 100%;overflow: auto;}#sk-container-id-1 input.sk-toggleable__control:checked~label.sk-toggleable__label-arrow:before {content: \"▾\";}#sk-container-id-1 div.sk-estimator input.sk-toggleable__control:checked~label.sk-toggleable__label {background-color: #d4ebff;}#sk-container-id-1 div.sk-label input.sk-toggleable__control:checked~label.sk-toggleable__label {background-color: #d4ebff;}#sk-container-id-1 input.sk-hidden--visually {border: 0;clip: rect(1px 1px 1px 1px);clip: rect(1px, 1px, 1px, 1px);height: 1px;margin: -1px;overflow: hidden;padding: 0;position: absolute;width: 1px;}#sk-container-id-1 div.sk-estimator {font-family: monospace;background-color: #f0f8ff;border: 1px dotted black;border-radius: 0.25em;box-sizing: border-box;margin-bottom: 0.5em;}#sk-container-id-1 div.sk-estimator:hover {background-color: #d4ebff;}#sk-container-id-1 div.sk-parallel-item::after {content: \"\";width: 100%;border-bottom: 1px solid gray;flex-grow: 1;}#sk-container-id-1 div.sk-label:hover label.sk-toggleable__label {background-color: #d4ebff;}#sk-container-id-1 div.sk-serial::before {content: \"\";position: absolute;border-left: 1px solid gray;box-sizing: border-box;top: 0;bottom: 0;left: 50%;z-index: 0;}#sk-container-id-1 div.sk-serial {display: flex;flex-direction: column;align-items: center;background-color: white;padding-right: 0.2em;padding-left: 0.2em;position: relative;}#sk-container-id-1 div.sk-item {position: relative;z-index: 1;}#sk-container-id-1 div.sk-parallel {display: flex;align-items: stretch;justify-content: center;background-color: white;position: relative;}#sk-container-id-1 div.sk-item::before, #sk-container-id-1 div.sk-parallel-item::before {content: \"\";position: absolute;border-left: 1px solid gray;box-sizing: border-box;top: 0;bottom: 0;left: 50%;z-index: -1;}#sk-container-id-1 div.sk-parallel-item {display: flex;flex-direction: column;z-index: 1;position: relative;background-color: white;}#sk-container-id-1 div.sk-parallel-item:first-child::after {align-self: flex-end;width: 50%;}#sk-container-id-1 div.sk-parallel-item:last-child::after {align-self: flex-start;width: 50%;}#sk-container-id-1 div.sk-parallel-item:only-child::after {width: 0;}#sk-container-id-1 div.sk-dashed-wrapped {border: 1px dashed gray;margin: 0 0.4em 0.5em 0.4em;box-sizing: border-box;padding-bottom: 0.4em;background-color: white;}#sk-container-id-1 div.sk-label label {font-family: monospace;font-weight: bold;display: inline-block;line-height: 1.2em;}#sk-container-id-1 div.sk-label-container {text-align: center;}#sk-container-id-1 div.sk-container {/* jupyter's `normalize.less` sets `[hidden] { display: none; }` but bootstrap.min.css set `[hidden] { display: none !important; }` so we also need the `!important` here to be able to override the default hidden behavior on the sphinx rendered scikit-learn.org. See: https://github.com/scikit-learn/scikit-learn/issues/21755 */display: inline-block !important;position: relative;}#sk-container-id-1 div.sk-text-repr-fallback {display: none;}</style><div id=\"sk-container-id-1\" class=\"sk-top-container\"><div class=\"sk-text-repr-fallback\"><pre>SVC(C=1)</pre><b>In a Jupyter environment, please rerun this cell to show the HTML representation or trust the notebook. <br />On GitHub, the HTML representation is unable to render, please try loading this page with nbviewer.org.</b></div><div class=\"sk-container\" hidden><div class=\"sk-item\"><div class=\"sk-estimator sk-toggleable\"><input class=\"sk-toggleable__control sk-hidden--visually\" id=\"sk-estimator-id-1\" type=\"checkbox\" checked><label for=\"sk-estimator-id-1\" class=\"sk-toggleable__label sk-toggleable__label-arrow\">SVC</label><div class=\"sk-toggleable__content\"><pre>SVC(C=1)</pre></div></div></div></div></div>"
      ],
      "text/plain": [
       "SVC(C=1)"
      ]
     },
     "execution_count": 69,
     "metadata": {},
     "output_type": "execute_result"
    }
   ],
   "source": [
    "# Import SVC\n",
    "from sklearn.svm import SVC\n",
    "# Train the model\n",
    "clf = SVC(C=1)\n",
    "clf.fit(train_X, labels_train)"
   ]
  },
  {
   "cell_type": "code",
   "execution_count": 70,
   "metadata": {},
   "outputs": [
    {
     "name": "stdout",
     "output_type": "stream",
     "text": [
      "Validation on the train set results:\n",
      "Predicted 4648 correctly out of 4978\n",
      "Model accuracy: 93%\n"
     ]
    }
   ],
   "source": [
    "def validate_clf(X,y):\n",
    "    # Validate model on training set\n",
    "    y_pred = clf.predict(X)\n",
    "    \n",
    "    # Count the number of correct predictions\n",
    "    n_correct = 0\n",
    "    for i in range(len(y)):\n",
    "        if y_pred[i] == y[i]:\n",
    "            n_correct += 1\n",
    "\n",
    "    print(\"Predicted {} correctly out of {}\".format(n_correct, len(y)))\n",
    "    print(\"Model accuracy: {}%\".format(round(n_correct/len(y)*100),2))\n",
    "    \n",
    "print('Validation on the train set results:')\n",
    "validate_clf(train_X, labels_train)"
   ]
  },
  {
   "cell_type": "code",
   "execution_count": 71,
   "metadata": {},
   "outputs": [
    {
     "name": "stdout",
     "output_type": "stream",
     "text": [
      "Validation on the test set results:\n",
      "Predicted 77 correctly out of 893\n",
      "Model accuracy: 9%\n"
     ]
    }
   ],
   "source": [
    "# Validate model on test set\n",
    "print('Validation on the test set results:')\n",
    "validate_clf(test_X, labels_test)"
   ]
  },
  {
   "attachments": {},
   "cell_type": "markdown",
   "metadata": {},
   "source": [
    "Try Some Different Model"
   ]
  },
  {
   "cell_type": "code",
   "execution_count": 74,
   "metadata": {},
   "outputs": [],
   "source": [
    "import os\n",
    "import numpy as np  \n",
    "import pandas as pd  \n",
    "import matplotlib.pyplot as plt\n",
    "from sklearn.metrics import classification_report\n",
    "from tqdm.auto import tqdm\n",
    "tqdm.pandas()\n",
    "\n",
    "import tensorflow_hub as hub\n",
    "import tensorflow as tf\n",
    "import tensorflow_hub as hub\n",
    "from tensorflow.keras.optimizers import Adam, SGD\n",
    "from tensorflow.keras.layers import Dense, Input, Flatten, BatchNormalization, Dropout, Concatenate\n",
    "from tensorflow.keras.models import Model, Sequential\n",
    "from tensorflow.keras.callbacks import ModelCheckpoint"
   ]
  },
  {
   "cell_type": "code",
   "execution_count": 76,
   "metadata": {},
   "outputs": [
    {
     "name": "stdout",
     "output_type": "stream",
     "text": [
      "(4978, 4)\n"
     ]
    },
    {
     "data": {
      "text/html": [
       "<div>\n",
       "<style scoped>\n",
       "    .dataframe tbody tr th:only-of-type {\n",
       "        vertical-align: middle;\n",
       "    }\n",
       "\n",
       "    .dataframe tbody tr th {\n",
       "        vertical-align: top;\n",
       "    }\n",
       "\n",
       "    .dataframe thead th {\n",
       "        text-align: right;\n",
       "    }\n",
       "</style>\n",
       "<table border=\"1\" class=\"dataframe\">\n",
       "  <thead>\n",
       "    <tr style=\"text-align: right;\">\n",
       "      <th></th>\n",
       "      <th>id</th>\n",
       "      <th>intent</th>\n",
       "      <th>text</th>\n",
       "      <th>slots</th>\n",
       "    </tr>\n",
       "  </thead>\n",
       "  <tbody>\n",
       "    <tr>\n",
       "      <th>0</th>\n",
       "      <td>0</td>\n",
       "      <td>flight</td>\n",
       "      <td>i want to fly from boston at 838 am and arrive...</td>\n",
       "      <td>O O O O O B-fromloc.city_name O B-depart_time....</td>\n",
       "    </tr>\n",
       "    <tr>\n",
       "      <th>1</th>\n",
       "      <td>1</td>\n",
       "      <td>flight</td>\n",
       "      <td>what flights are available from pittsburgh to ...</td>\n",
       "      <td>O O O O O B-fromloc.city_name O B-toloc.city_n...</td>\n",
       "    </tr>\n",
       "    <tr>\n",
       "      <th>2</th>\n",
       "      <td>2</td>\n",
       "      <td>flight_time</td>\n",
       "      <td>what is the arrival time in san francisco for ...</td>\n",
       "      <td>O O O B-flight_time I-flight_time O B-fromloc....</td>\n",
       "    </tr>\n",
       "    <tr>\n",
       "      <th>3</th>\n",
       "      <td>3</td>\n",
       "      <td>airfare</td>\n",
       "      <td>cheapest airfare from tacoma to orlando</td>\n",
       "      <td>B-cost_relative O O B-fromloc.city_name O B-to...</td>\n",
       "    </tr>\n",
       "    <tr>\n",
       "      <th>4</th>\n",
       "      <td>4</td>\n",
       "      <td>airfare</td>\n",
       "      <td>round trip fares from pittsburgh to philadelph...</td>\n",
       "      <td>B-round_trip I-round_trip O O B-fromloc.city_n...</td>\n",
       "    </tr>\n",
       "  </tbody>\n",
       "</table>\n",
       "</div>"
      ],
      "text/plain": [
       "   id       intent                                               text  \\\n",
       "0   0       flight  i want to fly from boston at 838 am and arrive...   \n",
       "1   1       flight  what flights are available from pittsburgh to ...   \n",
       "2   2  flight_time  what is the arrival time in san francisco for ...   \n",
       "3   3      airfare            cheapest airfare from tacoma to orlando   \n",
       "4   4      airfare  round trip fares from pittsburgh to philadelph...   \n",
       "\n",
       "                                               slots  \n",
       "0  O O O O O B-fromloc.city_name O B-depart_time....  \n",
       "1  O O O O O B-fromloc.city_name O B-toloc.city_n...  \n",
       "2  O O O B-flight_time I-flight_time O B-fromloc....  \n",
       "3  B-cost_relative O O B-fromloc.city_name O B-to...  \n",
       "4  B-round_trip I-round_trip O O B-fromloc.city_n...  "
      ]
     },
     "execution_count": 76,
     "metadata": {},
     "output_type": "execute_result"
    }
   ],
   "source": [
    "train = pd.read_csv('/Users/imanurrahmanemon/emon/atis_train.csv')\n",
    "train.columns = ['id','intent', 'text','slots']\n",
    "\n",
    "print(train.shape)\n",
    "train.head()"
   ]
  },
  {
   "cell_type": "code",
   "execution_count": 80,
   "metadata": {},
   "outputs": [
    {
     "name": "stdout",
     "output_type": "stream",
     "text": [
      "(4978, 4)\n"
     ]
    },
    {
     "data": {
      "text/html": [
       "<div>\n",
       "<style scoped>\n",
       "    .dataframe tbody tr th:only-of-type {\n",
       "        vertical-align: middle;\n",
       "    }\n",
       "\n",
       "    .dataframe tbody tr th {\n",
       "        vertical-align: top;\n",
       "    }\n",
       "\n",
       "    .dataframe thead th {\n",
       "        text-align: right;\n",
       "    }\n",
       "</style>\n",
       "<table border=\"1\" class=\"dataframe\">\n",
       "  <thead>\n",
       "    <tr style=\"text-align: right;\">\n",
       "      <th></th>\n",
       "      <th>id</th>\n",
       "      <th>intent</th>\n",
       "      <th>text</th>\n",
       "      <th>slots</th>\n",
       "    </tr>\n",
       "  </thead>\n",
       "  <tbody>\n",
       "    <tr>\n",
       "      <th>0</th>\n",
       "      <td>0</td>\n",
       "      <td>flight</td>\n",
       "      <td>i want to fly from boston at 838 am and arrive...</td>\n",
       "      <td>O O O O O B-fromloc.city_name O B-depart_time....</td>\n",
       "    </tr>\n",
       "    <tr>\n",
       "      <th>1</th>\n",
       "      <td>1</td>\n",
       "      <td>flight</td>\n",
       "      <td>what flights are available from pittsburgh to ...</td>\n",
       "      <td>O O O O O B-fromloc.city_name O B-toloc.city_n...</td>\n",
       "    </tr>\n",
       "    <tr>\n",
       "      <th>2</th>\n",
       "      <td>2</td>\n",
       "      <td>flight_time</td>\n",
       "      <td>what is the arrival time in san francisco for ...</td>\n",
       "      <td>O O O B-flight_time I-flight_time O B-fromloc....</td>\n",
       "    </tr>\n",
       "    <tr>\n",
       "      <th>3</th>\n",
       "      <td>3</td>\n",
       "      <td>airfare</td>\n",
       "      <td>cheapest airfare from tacoma to orlando</td>\n",
       "      <td>B-cost_relative O O B-fromloc.city_name O B-to...</td>\n",
       "    </tr>\n",
       "    <tr>\n",
       "      <th>4</th>\n",
       "      <td>4</td>\n",
       "      <td>airfare</td>\n",
       "      <td>round trip fares from pittsburgh to philadelph...</td>\n",
       "      <td>B-round_trip I-round_trip O O B-fromloc.city_n...</td>\n",
       "    </tr>\n",
       "  </tbody>\n",
       "</table>\n",
       "</div>"
      ],
      "text/plain": [
       "   id       intent                                               text  \\\n",
       "0   0       flight  i want to fly from boston at 838 am and arrive...   \n",
       "1   1       flight  what flights are available from pittsburgh to ...   \n",
       "2   2  flight_time  what is the arrival time in san francisco for ...   \n",
       "3   3      airfare            cheapest airfare from tacoma to orlando   \n",
       "4   4      airfare  round trip fares from pittsburgh to philadelph...   \n",
       "\n",
       "                                               slots  \n",
       "0  O O O O O B-fromloc.city_name O B-depart_time....  \n",
       "1  O O O O O B-fromloc.city_name O B-toloc.city_n...  \n",
       "2  O O O B-flight_time I-flight_time O B-fromloc....  \n",
       "3  B-cost_relative O O B-fromloc.city_name O B-to...  \n",
       "4  B-round_trip I-round_trip O O B-fromloc.city_n...  "
      ]
     },
     "execution_count": 80,
     "metadata": {},
     "output_type": "execute_result"
    }
   ],
   "source": [
    "test = pd.read_csv('/Users/imanurrahmanemon/emon/atis_train.csv')\n",
    "test.columns = ['id','intent', 'text','slots']\n",
    "\n",
    "print(test.shape)\n",
    "test.head()"
   ]
  },
  {
   "cell_type": "code",
   "execution_count": 81,
   "metadata": {},
   "outputs": [
    {
     "data": {
      "text/plain": [
       "(intent\n",
       " flight                        3666\n",
       " airfare                        423\n",
       " ground_service                 255\n",
       " airline                        157\n",
       " abbreviation                   147\n",
       " aircraft                        81\n",
       " flight_time                     54\n",
       " quantity                        51\n",
       " flight+airfare                  21\n",
       " airport                         20\n",
       " distance                        20\n",
       " city                            19\n",
       " ground_fare                     18\n",
       " capacity                        16\n",
       " flight_no                       12\n",
       " meal                             6\n",
       " restriction                      6\n",
       " airline+flight_no                2\n",
       " ground_service+ground_fare       1\n",
       " airfare+flight_time              1\n",
       " cheapest                         1\n",
       " aircraft+flight+flight_no        1\n",
       " Name: count, dtype: int64,\n",
       " intent\n",
       " flight                        0.736440\n",
       " airfare                       0.084974\n",
       " ground_service                0.051225\n",
       " airline                       0.031539\n",
       " abbreviation                  0.029530\n",
       " aircraft                      0.016272\n",
       " flight_time                   0.010848\n",
       " quantity                      0.010245\n",
       " flight+airfare                0.004219\n",
       " airport                       0.004018\n",
       " distance                      0.004018\n",
       " city                          0.003817\n",
       " ground_fare                   0.003616\n",
       " capacity                      0.003214\n",
       " flight_no                     0.002411\n",
       " meal                          0.001205\n",
       " restriction                   0.001205\n",
       " airline+flight_no             0.000402\n",
       " ground_service+ground_fare    0.000201\n",
       " airfare+flight_time           0.000201\n",
       " cheapest                      0.000201\n",
       " aircraft+flight+flight_no     0.000201\n",
       " Name: proportion, dtype: float64)"
      ]
     },
     "execution_count": 81,
     "metadata": {},
     "output_type": "execute_result"
    }
   ],
   "source": [
    "test.intent.value_counts(), test.intent.value_counts(normalize=True)"
   ]
  },
  {
   "cell_type": "code",
   "execution_count": 82,
   "metadata": {},
   "outputs": [
    {
     "data": {
      "text/plain": [
       "(4978, 4978, 4978, 4978)"
      ]
     },
     "execution_count": 82,
     "metadata": {},
     "output_type": "execute_result"
    }
   ],
   "source": [
    "train_data = train.text.values\n",
    "train_labels = train.intent.values\n",
    "test_data = test.text.values\n",
    "test_labels = test.intent.values\n",
    "\n",
    "len(train_data), len(train_labels), len(test_data), len(test_labels)"
   ]
  },
  {
   "cell_type": "code",
   "execution_count": 83,
   "metadata": {},
   "outputs": [
    {
     "name": "stdout",
     "output_type": "stream",
     "text": [
      "what are the nonstop flights on america west or southwest air from kansas city to burbank on saturday may twenty two\n",
      "flight\n"
     ]
    }
   ],
   "source": [
    "print(train_data[123])\n",
    "print(train_labels[123])"
   ]
  },
  {
   "cell_type": "code",
   "execution_count": 84,
   "metadata": {},
   "outputs": [
    {
     "name": "stdout",
     "output_type": "stream",
     "text": [
      "(4978, 22)\n"
     ]
    },
    {
     "data": {
      "text/html": [
       "<div>\n",
       "<style scoped>\n",
       "    .dataframe tbody tr th:only-of-type {\n",
       "        vertical-align: middle;\n",
       "    }\n",
       "\n",
       "    .dataframe tbody tr th {\n",
       "        vertical-align: top;\n",
       "    }\n",
       "\n",
       "    .dataframe thead th {\n",
       "        text-align: right;\n",
       "    }\n",
       "</style>\n",
       "<table border=\"1\" class=\"dataframe\">\n",
       "  <thead>\n",
       "    <tr style=\"text-align: right;\">\n",
       "      <th></th>\n",
       "      <th>abbreviation</th>\n",
       "      <th>aircraft</th>\n",
       "      <th>aircraft+flight+flight_no</th>\n",
       "      <th>airfare</th>\n",
       "      <th>airfare+flight_time</th>\n",
       "      <th>airline</th>\n",
       "      <th>airline+flight_no</th>\n",
       "      <th>airport</th>\n",
       "      <th>capacity</th>\n",
       "      <th>cheapest</th>\n",
       "      <th>...</th>\n",
       "      <th>flight</th>\n",
       "      <th>flight+airfare</th>\n",
       "      <th>flight_no</th>\n",
       "      <th>flight_time</th>\n",
       "      <th>ground_fare</th>\n",
       "      <th>ground_service</th>\n",
       "      <th>ground_service+ground_fare</th>\n",
       "      <th>meal</th>\n",
       "      <th>quantity</th>\n",
       "      <th>restriction</th>\n",
       "    </tr>\n",
       "  </thead>\n",
       "  <tbody>\n",
       "    <tr>\n",
       "      <th>0</th>\n",
       "      <td>False</td>\n",
       "      <td>False</td>\n",
       "      <td>False</td>\n",
       "      <td>False</td>\n",
       "      <td>False</td>\n",
       "      <td>False</td>\n",
       "      <td>False</td>\n",
       "      <td>False</td>\n",
       "      <td>False</td>\n",
       "      <td>False</td>\n",
       "      <td>...</td>\n",
       "      <td>True</td>\n",
       "      <td>False</td>\n",
       "      <td>False</td>\n",
       "      <td>False</td>\n",
       "      <td>False</td>\n",
       "      <td>False</td>\n",
       "      <td>False</td>\n",
       "      <td>False</td>\n",
       "      <td>False</td>\n",
       "      <td>False</td>\n",
       "    </tr>\n",
       "    <tr>\n",
       "      <th>1</th>\n",
       "      <td>False</td>\n",
       "      <td>False</td>\n",
       "      <td>False</td>\n",
       "      <td>False</td>\n",
       "      <td>False</td>\n",
       "      <td>False</td>\n",
       "      <td>False</td>\n",
       "      <td>False</td>\n",
       "      <td>False</td>\n",
       "      <td>False</td>\n",
       "      <td>...</td>\n",
       "      <td>True</td>\n",
       "      <td>False</td>\n",
       "      <td>False</td>\n",
       "      <td>False</td>\n",
       "      <td>False</td>\n",
       "      <td>False</td>\n",
       "      <td>False</td>\n",
       "      <td>False</td>\n",
       "      <td>False</td>\n",
       "      <td>False</td>\n",
       "    </tr>\n",
       "    <tr>\n",
       "      <th>2</th>\n",
       "      <td>False</td>\n",
       "      <td>False</td>\n",
       "      <td>False</td>\n",
       "      <td>False</td>\n",
       "      <td>False</td>\n",
       "      <td>False</td>\n",
       "      <td>False</td>\n",
       "      <td>False</td>\n",
       "      <td>False</td>\n",
       "      <td>False</td>\n",
       "      <td>...</td>\n",
       "      <td>False</td>\n",
       "      <td>False</td>\n",
       "      <td>False</td>\n",
       "      <td>True</td>\n",
       "      <td>False</td>\n",
       "      <td>False</td>\n",
       "      <td>False</td>\n",
       "      <td>False</td>\n",
       "      <td>False</td>\n",
       "      <td>False</td>\n",
       "    </tr>\n",
       "    <tr>\n",
       "      <th>3</th>\n",
       "      <td>False</td>\n",
       "      <td>False</td>\n",
       "      <td>False</td>\n",
       "      <td>True</td>\n",
       "      <td>False</td>\n",
       "      <td>False</td>\n",
       "      <td>False</td>\n",
       "      <td>False</td>\n",
       "      <td>False</td>\n",
       "      <td>False</td>\n",
       "      <td>...</td>\n",
       "      <td>False</td>\n",
       "      <td>False</td>\n",
       "      <td>False</td>\n",
       "      <td>False</td>\n",
       "      <td>False</td>\n",
       "      <td>False</td>\n",
       "      <td>False</td>\n",
       "      <td>False</td>\n",
       "      <td>False</td>\n",
       "      <td>False</td>\n",
       "    </tr>\n",
       "    <tr>\n",
       "      <th>4</th>\n",
       "      <td>False</td>\n",
       "      <td>False</td>\n",
       "      <td>False</td>\n",
       "      <td>True</td>\n",
       "      <td>False</td>\n",
       "      <td>False</td>\n",
       "      <td>False</td>\n",
       "      <td>False</td>\n",
       "      <td>False</td>\n",
       "      <td>False</td>\n",
       "      <td>...</td>\n",
       "      <td>False</td>\n",
       "      <td>False</td>\n",
       "      <td>False</td>\n",
       "      <td>False</td>\n",
       "      <td>False</td>\n",
       "      <td>False</td>\n",
       "      <td>False</td>\n",
       "      <td>False</td>\n",
       "      <td>False</td>\n",
       "      <td>False</td>\n",
       "    </tr>\n",
       "  </tbody>\n",
       "</table>\n",
       "<p>5 rows × 22 columns</p>\n",
       "</div>"
      ],
      "text/plain": [
       "   abbreviation  aircraft  aircraft+flight+flight_no  airfare  \\\n",
       "0         False     False                      False    False   \n",
       "1         False     False                      False    False   \n",
       "2         False     False                      False    False   \n",
       "3         False     False                      False     True   \n",
       "4         False     False                      False     True   \n",
       "\n",
       "   airfare+flight_time  airline  airline+flight_no  airport  capacity  \\\n",
       "0                False    False              False    False     False   \n",
       "1                False    False              False    False     False   \n",
       "2                False    False              False    False     False   \n",
       "3                False    False              False    False     False   \n",
       "4                False    False              False    False     False   \n",
       "\n",
       "   cheapest  ...  flight  flight+airfare  flight_no  flight_time  ground_fare  \\\n",
       "0     False  ...    True           False      False        False        False   \n",
       "1     False  ...    True           False      False        False        False   \n",
       "2     False  ...   False           False      False         True        False   \n",
       "3     False  ...   False           False      False        False        False   \n",
       "4     False  ...   False           False      False        False        False   \n",
       "\n",
       "   ground_service  ground_service+ground_fare   meal  quantity  restriction  \n",
       "0           False                       False  False     False        False  \n",
       "1           False                       False  False     False        False  \n",
       "2           False                       False  False     False        False  \n",
       "3           False                       False  False     False        False  \n",
       "4           False                       False  False     False        False  \n",
       "\n",
       "[5 rows x 22 columns]"
      ]
     },
     "execution_count": 84,
     "metadata": {},
     "output_type": "execute_result"
    }
   ],
   "source": [
    "y_train = pd.get_dummies(train_labels)\n",
    "print(y_train.shape)\n",
    "y_train.head()"
   ]
  },
  {
   "cell_type": "code",
   "execution_count": 85,
   "metadata": {},
   "outputs": [
    {
     "name": "stdout",
     "output_type": "stream",
     "text": [
      "(4978, 22)\n"
     ]
    },
    {
     "data": {
      "text/html": [
       "<div>\n",
       "<style scoped>\n",
       "    .dataframe tbody tr th:only-of-type {\n",
       "        vertical-align: middle;\n",
       "    }\n",
       "\n",
       "    .dataframe tbody tr th {\n",
       "        vertical-align: top;\n",
       "    }\n",
       "\n",
       "    .dataframe thead th {\n",
       "        text-align: right;\n",
       "    }\n",
       "</style>\n",
       "<table border=\"1\" class=\"dataframe\">\n",
       "  <thead>\n",
       "    <tr style=\"text-align: right;\">\n",
       "      <th></th>\n",
       "      <th>abbreviation</th>\n",
       "      <th>aircraft</th>\n",
       "      <th>aircraft+flight+flight_no</th>\n",
       "      <th>airfare</th>\n",
       "      <th>airfare+flight_time</th>\n",
       "      <th>airline</th>\n",
       "      <th>airline+flight_no</th>\n",
       "      <th>airport</th>\n",
       "      <th>capacity</th>\n",
       "      <th>cheapest</th>\n",
       "      <th>...</th>\n",
       "      <th>flight</th>\n",
       "      <th>flight+airfare</th>\n",
       "      <th>flight_no</th>\n",
       "      <th>flight_time</th>\n",
       "      <th>ground_fare</th>\n",
       "      <th>ground_service</th>\n",
       "      <th>ground_service+ground_fare</th>\n",
       "      <th>meal</th>\n",
       "      <th>quantity</th>\n",
       "      <th>restriction</th>\n",
       "    </tr>\n",
       "  </thead>\n",
       "  <tbody>\n",
       "    <tr>\n",
       "      <th>0</th>\n",
       "      <td>False</td>\n",
       "      <td>False</td>\n",
       "      <td>False</td>\n",
       "      <td>False</td>\n",
       "      <td>False</td>\n",
       "      <td>False</td>\n",
       "      <td>False</td>\n",
       "      <td>False</td>\n",
       "      <td>False</td>\n",
       "      <td>False</td>\n",
       "      <td>...</td>\n",
       "      <td>True</td>\n",
       "      <td>False</td>\n",
       "      <td>False</td>\n",
       "      <td>False</td>\n",
       "      <td>False</td>\n",
       "      <td>False</td>\n",
       "      <td>False</td>\n",
       "      <td>False</td>\n",
       "      <td>False</td>\n",
       "      <td>False</td>\n",
       "    </tr>\n",
       "    <tr>\n",
       "      <th>1</th>\n",
       "      <td>False</td>\n",
       "      <td>False</td>\n",
       "      <td>False</td>\n",
       "      <td>False</td>\n",
       "      <td>False</td>\n",
       "      <td>False</td>\n",
       "      <td>False</td>\n",
       "      <td>False</td>\n",
       "      <td>False</td>\n",
       "      <td>False</td>\n",
       "      <td>...</td>\n",
       "      <td>True</td>\n",
       "      <td>False</td>\n",
       "      <td>False</td>\n",
       "      <td>False</td>\n",
       "      <td>False</td>\n",
       "      <td>False</td>\n",
       "      <td>False</td>\n",
       "      <td>False</td>\n",
       "      <td>False</td>\n",
       "      <td>False</td>\n",
       "    </tr>\n",
       "    <tr>\n",
       "      <th>2</th>\n",
       "      <td>False</td>\n",
       "      <td>False</td>\n",
       "      <td>False</td>\n",
       "      <td>False</td>\n",
       "      <td>False</td>\n",
       "      <td>False</td>\n",
       "      <td>False</td>\n",
       "      <td>False</td>\n",
       "      <td>False</td>\n",
       "      <td>False</td>\n",
       "      <td>...</td>\n",
       "      <td>False</td>\n",
       "      <td>False</td>\n",
       "      <td>False</td>\n",
       "      <td>True</td>\n",
       "      <td>False</td>\n",
       "      <td>False</td>\n",
       "      <td>False</td>\n",
       "      <td>False</td>\n",
       "      <td>False</td>\n",
       "      <td>False</td>\n",
       "    </tr>\n",
       "    <tr>\n",
       "      <th>3</th>\n",
       "      <td>False</td>\n",
       "      <td>False</td>\n",
       "      <td>False</td>\n",
       "      <td>True</td>\n",
       "      <td>False</td>\n",
       "      <td>False</td>\n",
       "      <td>False</td>\n",
       "      <td>False</td>\n",
       "      <td>False</td>\n",
       "      <td>False</td>\n",
       "      <td>...</td>\n",
       "      <td>False</td>\n",
       "      <td>False</td>\n",
       "      <td>False</td>\n",
       "      <td>False</td>\n",
       "      <td>False</td>\n",
       "      <td>False</td>\n",
       "      <td>False</td>\n",
       "      <td>False</td>\n",
       "      <td>False</td>\n",
       "      <td>False</td>\n",
       "    </tr>\n",
       "    <tr>\n",
       "      <th>4</th>\n",
       "      <td>False</td>\n",
       "      <td>False</td>\n",
       "      <td>False</td>\n",
       "      <td>True</td>\n",
       "      <td>False</td>\n",
       "      <td>False</td>\n",
       "      <td>False</td>\n",
       "      <td>False</td>\n",
       "      <td>False</td>\n",
       "      <td>False</td>\n",
       "      <td>...</td>\n",
       "      <td>False</td>\n",
       "      <td>False</td>\n",
       "      <td>False</td>\n",
       "      <td>False</td>\n",
       "      <td>False</td>\n",
       "      <td>False</td>\n",
       "      <td>False</td>\n",
       "      <td>False</td>\n",
       "      <td>False</td>\n",
       "      <td>False</td>\n",
       "    </tr>\n",
       "  </tbody>\n",
       "</table>\n",
       "<p>5 rows × 22 columns</p>\n",
       "</div>"
      ],
      "text/plain": [
       "   abbreviation  aircraft  aircraft+flight+flight_no  airfare  \\\n",
       "0         False     False                      False    False   \n",
       "1         False     False                      False    False   \n",
       "2         False     False                      False    False   \n",
       "3         False     False                      False     True   \n",
       "4         False     False                      False     True   \n",
       "\n",
       "   airfare+flight_time  airline  airline+flight_no  airport  capacity  \\\n",
       "0                False    False              False    False     False   \n",
       "1                False    False              False    False     False   \n",
       "2                False    False              False    False     False   \n",
       "3                False    False              False    False     False   \n",
       "4                False    False              False    False     False   \n",
       "\n",
       "   cheapest  ...  flight  flight+airfare  flight_no  flight_time  ground_fare  \\\n",
       "0     False  ...    True           False      False        False        False   \n",
       "1     False  ...    True           False      False        False        False   \n",
       "2     False  ...   False           False      False         True        False   \n",
       "3     False  ...   False           False      False        False        False   \n",
       "4     False  ...   False           False      False        False        False   \n",
       "\n",
       "   ground_service  ground_service+ground_fare   meal  quantity  restriction  \n",
       "0           False                       False  False     False        False  \n",
       "1           False                       False  False     False        False  \n",
       "2           False                       False  False     False        False  \n",
       "3           False                       False  False     False        False  \n",
       "4           False                       False  False     False        False  \n",
       "\n",
       "[5 rows x 22 columns]"
      ]
     },
     "execution_count": 85,
     "metadata": {},
     "output_type": "execute_result"
    }
   ],
   "source": [
    "y_test = pd.get_dummies(test_labels)\n",
    "print(y_test.shape)\n",
    "y_test.head()"
   ]
  },
  {
   "attachments": {},
   "cell_type": "markdown",
   "metadata": {},
   "source": [
    "Model - Universal Sentence Encoder"
   ]
  },
  {
   "cell_type": "code",
   "execution_count": 90,
   "metadata": {},
   "outputs": [
    {
     "name": "stdout",
     "output_type": "stream",
     "text": [
      "/Users/imanurrahmanemon/emon/lib/python3.11/site-packages/certifi/cacert.pem\n"
     ]
    }
   ],
   "source": [
    "import certifi\n",
    "print(certifi.where())"
   ]
  },
  {
   "cell_type": "code",
   "execution_count": 93,
   "metadata": {},
   "outputs": [
    {
     "name": "stdout",
     "output_type": "stream",
     "text": [
      "/Library/Frameworks/Python.framework/Versions/3.11/etc/openssl/cert.pem\n"
     ]
    }
   ],
   "source": [
    "import ssl\n",
    "print(ssl.get_default_verify_paths().openssl_cafile)"
   ]
  },
  {
   "cell_type": "code",
   "execution_count": 91,
   "metadata": {},
   "outputs": [],
   "source": [
    "import os\n",
    "\n",
    "# Set SSL_CERT_FILE\n",
    "os.environ['SSL_CERT_FILE'] = '/Users/imanurrahmanemon/emon/lib/python3.11/site-packages/certifi/cacert.pem'  # Replace with the actual path to your certificate file\n"
   ]
  },
  {
   "cell_type": "code",
   "execution_count": null,
   "metadata": {},
   "outputs": [],
   "source": [
    "import tensorflow as tf\n",
    "import tensorflow_hub as hub\n",
    "\n",
    "# Manually download the model and save it locally\n",
    "model_path = '/Users/imanurrahmanemon/Downloads/archive2/variables'\n",
    "tf.keras.utils.get_file(model_path, module_url)\n",
    "\n",
    "# Load the model from the local file\n",
    "embed = hub.KerasLayer(model_path, trainable=True, name='USE_embedding')\n",
    "\n"
   ]
  },
  {
   "cell_type": "code",
   "execution_count": null,
   "metadata": {},
   "outputs": [],
   "source": [
    "import os\n",
    "import ssl\n",
    "import tensorflow as tf\n",
    "import tensorflow_hub as hub\n",
    "\n",
    "import ssl\n",
    "\n",
    "ssl._create_default_https_context = ssl._create_unverified_context\n",
    "\n",
    "\n",
    "# Explicitly set the SSL certificate file\n",
    "os.environ['SSL_CERT_FILE'] = '/Users/imanurrahmanemon/emon/lib/python3.11/site-packages/certifi/cacert.pem' # Replace with the actual path to your SSL certificate file\n",
    "\n",
    "# Download the Universal Sentence Encoder module\n",
    "module_url = 'https://tfhub.dev/google/universal-sentence-encoder-large/4'\n",
    "embed = hub.KerasLayer(module_url, trainable=True, name='USE_embedding')\n",
    "\n",
    "# Example usage\n",
    "sentences = [\"what are the nonstop flights on america west or southwest air from kansas city to burbank on saturday may twenty two flight\"]\n",
    "embeddings = embed(sentences)\n",
    "\n",
    "# Print the embeddings\n",
    "print(embeddings)\n"
   ]
  }
 ],
 "metadata": {
  "kernelspec": {
   "display_name": "emon",
   "language": "python",
   "name": "python3"
  },
  "language_info": {
   "codemirror_mode": {
    "name": "ipython",
    "version": 3
   },
   "file_extension": ".py",
   "mimetype": "text/x-python",
   "name": "python",
   "nbconvert_exporter": "python",
   "pygments_lexer": "ipython3",
   "version": "3.11.2"
  },
  "orig_nbformat": 4,
  "vscode": {
   "interpreter": {
    "hash": "94f5dc863f2dab887adf79d15af2223207edf6b88039cb25cfc6041a06df14d3"
   }
  }
 },
 "nbformat": 4,
 "nbformat_minor": 2
}
